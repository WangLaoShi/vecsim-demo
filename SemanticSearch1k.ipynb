{
 "cells": [
  {
   "cell_type": "code",
   "execution_count": 3,
   "id": "fe5cea5e-9bfc-469a-ae51-5bbf21c5df33",
   "metadata": {},
   "outputs": [],
   "source": [
    "import random\n",
    "import numpy as np\n",
    "import pandas as pd\n",
    "import time\n",
    "from redis import Redis\n",
    "from redis.commands.search.field import VectorField\n",
    "from redis.commands.search.field import TextField\n",
    "from redis.commands.search.field import TagField\n",
    "from redis.commands.search.query import Query\n",
    "from redis.commands.search.result import Result\n",
    "\n",
    "class color:\n",
    "   PURPLE = '\\033[95m'\n",
    "   CYAN = '\\033[96m'\n",
    "   DARKCYAN = '\\033[36m'\n",
    "   BLUE = '\\033[94m'\n",
    "   GREEN = '\\033[92m'\n",
    "   YELLOW = '\\033[93m'\n",
    "   RED = '\\033[91m'\n",
    "   BOLD = '\\033[1m'\n",
    "   UNDERLINE = '\\033[4m'\n",
    "   END = '\\033[0m'\n"
   ]
  },
  {
   "cell_type": "markdown",
   "id": "ba969e44-d988-43bd-9953-73bdc3c19a1c",
   "metadata": {
    "tags": []
   },
   "source": [
    "# 加载 Amazon 产品数据集\n",
    "\n",
    "在加载时截断文本选定字段。\n",
    "\n",
    "预训练句子嵌入生成器支持的最大长度为512。"
   ]
  },
  {
   "cell_type": "code",
   "execution_count": 6,
   "id": "dc187a4a-ef97-41fc-92c7-d0c34eb5ada0",
   "metadata": {},
   "outputs": [],
   "source": [
    "MAX_TEXT_LENGTH = 512\n",
    "NUMBER_PRODUCTS = 1000\n",
    "\n",
    "def auto_truncate(val):\n",
    "    \"\"\"\n",
    "    自定义函数，截断，到最大长度。\n",
    "    \"\"\"\n",
    "    return val[:MAX_TEXT_LENGTH]\n",
    "\n",
    "# Load Product data and truncate long text fields\n",
    "# 在读取 CSV 的时候，使用自定义方法，截取 3 个列中的前 512 个字符\n",
    "all_prods_df = pd.read_csv(\"data/product_data.csv\", converters={\n",
    "                                'bullet_point': auto_truncate,\n",
    "                                'item_keywords':auto_truncate,\n",
    "                                'item_name':auto_truncate\n",
    "                                }\n",
    "                          )\n",
    "\n",
    "# 组合两个字段作为新数据的主键\n",
    "all_prods_df['primary_key'] = all_prods_df['item_id'] + '-' + all_prods_df['domain_name']\n",
    "# 替换 item_keywords 字段中个的 '' 为 np.nan\n",
    "all_prods_df['item_keywords'].replace('', np.nan, inplace=True)\n",
    "# 删除 item_keywords 中的 na 值\n",
    "all_prods_df.dropna(subset=['item_keywords'], inplace=True)\n",
    "all_prods_df.reset_index(drop=True,inplace=True)\n",
    "\n",
    "# get the first 1000 products with non-empty item keywords\n",
    "# 获取前 1000 个具有非空项目关键字的产品\n",
    "product_metadata = all_prods_df.head(NUMBER_PRODUCTS).to_dict(orient='index')"
   ]
  },
  {
   "cell_type": "code",
   "execution_count": null,
   "id": "0dd7acc6-5118-4b1c-b709-a357d28bac2f",
   "metadata": {},
   "outputs": [],
   "source": [
    "product_metadata"
   ]
  },
  {
   "cell_type": "code",
   "execution_count": 7,
   "id": "50c78cdd-49f6-40da-a391-eeb1d2af8139",
   "metadata": {},
   "outputs": [
    {
     "data": {
      "text/html": [
       "<div>\n",
       "<style scoped>\n",
       "    .dataframe tbody tr th:only-of-type {\n",
       "        vertical-align: middle;\n",
       "    }\n",
       "\n",
       "    .dataframe tbody tr th {\n",
       "        vertical-align: top;\n",
       "    }\n",
       "\n",
       "    .dataframe thead th {\n",
       "        text-align: right;\n",
       "    }\n",
       "</style>\n",
       "<table border=\"1\" class=\"dataframe\">\n",
       "  <thead>\n",
       "    <tr style=\"text-align: right;\">\n",
       "      <th></th>\n",
       "      <th>item_id</th>\n",
       "      <th>marketplace</th>\n",
       "      <th>country</th>\n",
       "      <th>main_image_id</th>\n",
       "      <th>domain_name</th>\n",
       "      <th>bullet_point</th>\n",
       "      <th>item_keywords</th>\n",
       "      <th>material</th>\n",
       "      <th>brand</th>\n",
       "      <th>color</th>\n",
       "      <th>item_name</th>\n",
       "      <th>model_name</th>\n",
       "      <th>model_number</th>\n",
       "      <th>product_type</th>\n",
       "      <th>primary_key</th>\n",
       "    </tr>\n",
       "  </thead>\n",
       "  <tbody>\n",
       "    <tr>\n",
       "      <th>0</th>\n",
       "      <td>B07T6RZ2CM</td>\n",
       "      <td>Amazon</td>\n",
       "      <td>IN</td>\n",
       "      <td>71dZhpsferL</td>\n",
       "      <td>amazon.in</td>\n",
       "      <td>3D Printed Hard Back Case Mobile Cover for Len...</td>\n",
       "      <td>mobile cover back cover mobile case phone case...</td>\n",
       "      <td>NaN</td>\n",
       "      <td>Amazon Brand - Solimo</td>\n",
       "      <td>Others</td>\n",
       "      <td>Amazon Brand - Solimo Designer Couples Sitting...</td>\n",
       "      <td>Lenovo K4 Note</td>\n",
       "      <td>gz8115-SL40423</td>\n",
       "      <td>CELLULAR_PHONE_CASE</td>\n",
       "      <td>B07T6RZ2CM-amazon.in</td>\n",
       "    </tr>\n",
       "    <tr>\n",
       "      <th>1</th>\n",
       "      <td>B07T2JY31Y</td>\n",
       "      <td>Amazon</td>\n",
       "      <td>IN</td>\n",
       "      <td>71vX7qIEAIL</td>\n",
       "      <td>amazon.in</td>\n",
       "      <td>3D Printed Hard Back Case Mobile Cover for Son...</td>\n",
       "      <td>mobile cover back cover mobile case phone case...</td>\n",
       "      <td>Wood</td>\n",
       "      <td>Amazon Brand - Solimo</td>\n",
       "      <td>others</td>\n",
       "      <td>Amazon Brand - Solimo Designer Leaf on Wood 3D...</td>\n",
       "      <td>Sony Xperia Z1 L39H</td>\n",
       "      <td>gz8056-SL40528</td>\n",
       "      <td>CELLULAR_PHONE_CASE</td>\n",
       "      <td>B07T2JY31Y-amazon.in</td>\n",
       "    </tr>\n",
       "    <tr>\n",
       "      <th>2</th>\n",
       "      <td>B0849YGSCZ</td>\n",
       "      <td>Amazon</td>\n",
       "      <td>AE</td>\n",
       "      <td>A1EZF-2mB5L</td>\n",
       "      <td>amazon.ae</td>\n",
       "      <td></td>\n",
       "      <td>small de fur rooms navidad woven girls shag pa...</td>\n",
       "      <td>NaN</td>\n",
       "      <td>Stone &amp; Beam</td>\n",
       "      <td>NaN</td>\n",
       "      <td>Stone &amp; Beam Contemporary Doily Wool Farmhouse...</td>\n",
       "      <td>NaN</td>\n",
       "      <td>I59I8044IVYGRYC00-Parent</td>\n",
       "      <td>HOME_FURNITURE_AND_DECOR</td>\n",
       "      <td>B0849YGSCZ-amazon.ae</td>\n",
       "    </tr>\n",
       "    <tr>\n",
       "      <th>3</th>\n",
       "      <td>B081K6TCML</td>\n",
       "      <td>Amazon</td>\n",
       "      <td>IN</td>\n",
       "      <td>81o9EyZ-fAL</td>\n",
       "      <td>amazon.in</td>\n",
       "      <td>Solimo Plastic Multipurpose Modular Drawer; sm...</td>\n",
       "      <td>drawer modular drawer 3 rack modular drawer ki...</td>\n",
       "      <td>Plastic</td>\n",
       "      <td>Amazon Brand - Solimo</td>\n",
       "      <td>Multicolor</td>\n",
       "      <td>Amazon Brand - Solimo Plastic Multipurpose Mod...</td>\n",
       "      <td>NaN</td>\n",
       "      <td>sol_cujo_13</td>\n",
       "      <td>HOME</td>\n",
       "      <td>B081K6TCML-amazon.in</td>\n",
       "    </tr>\n",
       "    <tr>\n",
       "      <th>4</th>\n",
       "      <td>B0854774X5</td>\n",
       "      <td>Amazon</td>\n",
       "      <td>IN</td>\n",
       "      <td>81xaJCVnl3L</td>\n",
       "      <td>amazon.in</td>\n",
       "      <td>Snug fit for Nokia 8.1, with perfect cut-outs ...</td>\n",
       "      <td>Back Cover Designer Case Designer Take It Easy...</td>\n",
       "      <td>Silicon</td>\n",
       "      <td>Amazon Brand - Solimo</td>\n",
       "      <td>Multicolor</td>\n",
       "      <td>Amazon Brand - Solimo Designer Take It Easy UV...</td>\n",
       "      <td>Nokia 8.1</td>\n",
       "      <td>UV10714-SL40617</td>\n",
       "      <td>CELLULAR_PHONE_CASE</td>\n",
       "      <td>B0854774X5-amazon.in</td>\n",
       "    </tr>\n",
       "  </tbody>\n",
       "</table>\n",
       "</div>"
      ],
      "text/plain": [
       "      item_id marketplace country main_image_id domain_name  \\\n",
       "0  B07T6RZ2CM      Amazon      IN   71dZhpsferL   amazon.in   \n",
       "1  B07T2JY31Y      Amazon      IN   71vX7qIEAIL   amazon.in   \n",
       "2  B0849YGSCZ      Amazon      AE   A1EZF-2mB5L   amazon.ae   \n",
       "3  B081K6TCML      Amazon      IN   81o9EyZ-fAL   amazon.in   \n",
       "4  B0854774X5      Amazon      IN   81xaJCVnl3L   amazon.in   \n",
       "\n",
       "                                        bullet_point  \\\n",
       "0  3D Printed Hard Back Case Mobile Cover for Len...   \n",
       "1  3D Printed Hard Back Case Mobile Cover for Son...   \n",
       "2                                                      \n",
       "3  Solimo Plastic Multipurpose Modular Drawer; sm...   \n",
       "4  Snug fit for Nokia 8.1, with perfect cut-outs ...   \n",
       "\n",
       "                                       item_keywords material  \\\n",
       "0  mobile cover back cover mobile case phone case...      NaN   \n",
       "1  mobile cover back cover mobile case phone case...     Wood   \n",
       "2  small de fur rooms navidad woven girls shag pa...      NaN   \n",
       "3  drawer modular drawer 3 rack modular drawer ki...  Plastic   \n",
       "4  Back Cover Designer Case Designer Take It Easy...  Silicon   \n",
       "\n",
       "                   brand       color  \\\n",
       "0  Amazon Brand - Solimo      Others   \n",
       "1  Amazon Brand - Solimo      others   \n",
       "2           Stone & Beam         NaN   \n",
       "3  Amazon Brand - Solimo  Multicolor   \n",
       "4  Amazon Brand - Solimo  Multicolor   \n",
       "\n",
       "                                           item_name           model_name  \\\n",
       "0  Amazon Brand - Solimo Designer Couples Sitting...       Lenovo K4 Note   \n",
       "1  Amazon Brand - Solimo Designer Leaf on Wood 3D...  Sony Xperia Z1 L39H   \n",
       "2  Stone & Beam Contemporary Doily Wool Farmhouse...                  NaN   \n",
       "3  Amazon Brand - Solimo Plastic Multipurpose Mod...                  NaN   \n",
       "4  Amazon Brand - Solimo Designer Take It Easy UV...            Nokia 8.1   \n",
       "\n",
       "               model_number              product_type           primary_key  \n",
       "0            gz8115-SL40423       CELLULAR_PHONE_CASE  B07T6RZ2CM-amazon.in  \n",
       "1            gz8056-SL40528       CELLULAR_PHONE_CASE  B07T2JY31Y-amazon.in  \n",
       "2  I59I8044IVYGRYC00-Parent  HOME_FURNITURE_AND_DECOR  B0849YGSCZ-amazon.ae  \n",
       "3               sol_cujo_13                      HOME  B081K6TCML-amazon.in  \n",
       "4           UV10714-SL40617       CELLULAR_PHONE_CASE  B0854774X5-amazon.in  "
      ]
     },
     "execution_count": 7,
     "metadata": {},
     "output_type": "execute_result"
    }
   ],
   "source": [
    "all_prods_df.head()"
   ]
  },
  {
   "cell_type": "markdown",
   "id": "b2261b86-598b-4ab4-be93-e58f34aff3dd",
   "metadata": {
    "tags": []
   },
   "source": [
    "# 连接到 Redis"
   ]
  },
  {
   "cell_type": "code",
   "execution_count": 8,
   "id": "ef37492f-3360-4cd5-8dd2-23ccdd2b9042",
   "metadata": {},
   "outputs": [
    {
     "name": "stdout",
     "output_type": "stream",
     "text": [
      "Connected to redis\n"
     ]
    }
   ],
   "source": [
    "host = 'vecsim'\n",
    "port = 6379\n",
    "redis_conn = Redis(host = host, port = port)\n",
    "print ('Connected to redis')"
   ]
  },
  {
   "cell_type": "code",
   "execution_count": 16,
   "id": "d73f5354-68c4-4972-858e-73be7239ec09",
   "metadata": {},
   "outputs": [
    {
     "data": {
      "text/plain": [
       "Redis<ConnectionPool<Connection<host=vecsim,port=6379,db=0>>>"
      ]
     },
     "execution_count": 16,
     "metadata": {},
     "output_type": "execute_result"
    }
   ],
   "source": [
    "redis_conn"
   ]
  },
  {
   "cell_type": "markdown",
   "id": "fde0ad07-363e-4414-8684-bbf6c1d13409",
   "metadata": {
    "tags": []
   },
   "source": [
    "# 嵌入生成器安装\n",
    "\n",
    "我们会使用一个[HuggingFace](https://huggingface.co/sentence-transformers/all-distilroberta-v1)上预训练的句子嵌入生成器。\n",
    "\n"
   ]
  },
  {
   "cell_type": "code",
   "execution_count": 9,
   "id": "1dbf1ccf-1d3a-4f8b-9457-a9fb648859dc",
   "metadata": {},
   "outputs": [
    {
     "data": {
      "application/vnd.jupyter.widget-view+json": {
       "model_id": "c87c78b0336340f5b06b2b44a31738d9",
       "version_major": 2,
       "version_minor": 0
      },
      "text/plain": [
       "Downloading (…)87e68/.gitattributes:   0%|          | 0.00/737 [00:00<?, ?B/s]"
      ]
     },
     "metadata": {},
     "output_type": "display_data"
    },
    {
     "data": {
      "application/vnd.jupyter.widget-view+json": {
       "model_id": "569a817d33b641e2bf8e6666f47d4908",
       "version_major": 2,
       "version_minor": 0
      },
      "text/plain": [
       "Downloading (…)_Pooling/config.json:   0%|          | 0.00/190 [00:00<?, ?B/s]"
      ]
     },
     "metadata": {},
     "output_type": "display_data"
    },
    {
     "data": {
      "application/vnd.jupyter.widget-view+json": {
       "model_id": "bc7e0b9a8a81491b83634bd94576c794",
       "version_major": 2,
       "version_minor": 0
      },
      "text/plain": [
       "Downloading (…)5afc487e68/README.md:   0%|          | 0.00/10.3k [00:00<?, ?B/s]"
      ]
     },
     "metadata": {},
     "output_type": "display_data"
    },
    {
     "data": {
      "application/vnd.jupyter.widget-view+json": {
       "model_id": "f5fd6988238b4fe3a15956901317017a",
       "version_major": 2,
       "version_minor": 0
      },
      "text/plain": [
       "Downloading (…)fc487e68/config.json:   0%|          | 0.00/653 [00:00<?, ?B/s]"
      ]
     },
     "metadata": {},
     "output_type": "display_data"
    },
    {
     "data": {
      "application/vnd.jupyter.widget-view+json": {
       "model_id": "0bf39b1ae8c04ffd810b354cd702f6e7",
       "version_major": 2,
       "version_minor": 0
      },
      "text/plain": [
       "Downloading (…)ce_transformers.json:   0%|          | 0.00/116 [00:00<?, ?B/s]"
      ]
     },
     "metadata": {},
     "output_type": "display_data"
    },
    {
     "data": {
      "application/vnd.jupyter.widget-view+json": {
       "model_id": "925150cf27d44a61a8b21f0bf0ccca78",
       "version_major": 2,
       "version_minor": 0
      },
      "text/plain": [
       "Downloading (…)e68/data_config.json:   0%|          | 0.00/15.7k [00:00<?, ?B/s]"
      ]
     },
     "metadata": {},
     "output_type": "display_data"
    },
    {
     "data": {
      "application/vnd.jupyter.widget-view+json": {
       "model_id": "5e7e1bd2abfd47abb832d80701d2a9cc",
       "version_major": 2,
       "version_minor": 0
      },
      "text/plain": [
       "Downloading (…)afc487e68/merges.txt:   0%|          | 0.00/456k [00:00<?, ?B/s]"
      ]
     },
     "metadata": {},
     "output_type": "display_data"
    },
    {
     "data": {
      "application/vnd.jupyter.widget-view+json": {
       "model_id": "ab0ef0e2980a4943b29fd3e5b3787589",
       "version_major": 2,
       "version_minor": 0
      },
      "text/plain": [
       "Downloading pytorch_model.bin:   0%|          | 0.00/329M [00:00<?, ?B/s]"
      ]
     },
     "metadata": {},
     "output_type": "display_data"
    },
    {
     "data": {
      "application/vnd.jupyter.widget-view+json": {
       "model_id": "2b03cacd12a84d22a8fe9df1285344c6",
       "version_major": 2,
       "version_minor": 0
      },
      "text/plain": [
       "Downloading (…)nce_bert_config.json:   0%|          | 0.00/53.0 [00:00<?, ?B/s]"
      ]
     },
     "metadata": {},
     "output_type": "display_data"
    },
    {
     "data": {
      "application/vnd.jupyter.widget-view+json": {
       "model_id": "04ee3b3b20b948cdb7c7e7cab0590ff7",
       "version_major": 2,
       "version_minor": 0
      },
      "text/plain": [
       "Downloading (…)cial_tokens_map.json:   0%|          | 0.00/239 [00:00<?, ?B/s]"
      ]
     },
     "metadata": {},
     "output_type": "display_data"
    },
    {
     "data": {
      "application/vnd.jupyter.widget-view+json": {
       "model_id": "e997e96984274d179683f41c1f6383f4",
       "version_major": 2,
       "version_minor": 0
      },
      "text/plain": [
       "Downloading (…)87e68/tokenizer.json:   0%|          | 0.00/1.36M [00:00<?, ?B/s]"
      ]
     },
     "metadata": {},
     "output_type": "display_data"
    },
    {
     "data": {
      "application/vnd.jupyter.widget-view+json": {
       "model_id": "84c1fb857c104cfeb14c8b7db92cef29",
       "version_major": 2,
       "version_minor": 0
      },
      "text/plain": [
       "Downloading (…)okenizer_config.json:   0%|          | 0.00/333 [00:00<?, ?B/s]"
      ]
     },
     "metadata": {},
     "output_type": "display_data"
    },
    {
     "data": {
      "application/vnd.jupyter.widget-view+json": {
       "model_id": "558d585d00e2438585fcd5d9c3f1ce40",
       "version_major": 2,
       "version_minor": 0
      },
      "text/plain": [
       "Downloading (…)7e68/train_script.py:   0%|          | 0.00/13.1k [00:00<?, ?B/s]"
      ]
     },
     "metadata": {},
     "output_type": "display_data"
    },
    {
     "data": {
      "application/vnd.jupyter.widget-view+json": {
       "model_id": "e1f4da019d3d44b8ba71ad6e0bd46d56",
       "version_major": 2,
       "version_minor": 0
      },
      "text/plain": [
       "Downloading (…)afc487e68/vocab.json:   0%|          | 0.00/798k [00:00<?, ?B/s]"
      ]
     },
     "metadata": {},
     "output_type": "display_data"
    },
    {
     "data": {
      "application/vnd.jupyter.widget-view+json": {
       "model_id": "73234ad20e0249c4977ddd5b2d474bd5",
       "version_major": 2,
       "version_minor": 0
      },
      "text/plain": [
       "Downloading (…)c487e68/modules.json:   0%|          | 0.00/349 [00:00<?, ?B/s]"
      ]
     },
     "metadata": {},
     "output_type": "display_data"
    }
   ],
   "source": [
    "from sentence_transformers import SentenceTransformer\n",
    "model = SentenceTransformer('sentence-transformers/all-distilroberta-v1')"
   ]
  },
  {
   "cell_type": "markdown",
   "id": "d5298c8d-3b69-4927-93b5-1981ee729f60",
   "metadata": {
    "tags": []
   },
   "source": [
    "# 生成嵌入\n",
    "\n",
    "我们将使用 Sentence Transformer 模型 (distilroberta-v1) 'Img2Vec' 为项目关键字生成嵌入（向量）\n",
    "\n",
    "distilroberta-v1 为最多 512 个字符的给定句子生成一个 768 浮点向量。"
   ]
  },
  {
   "cell_type": "code",
   "execution_count": 10,
   "id": "78834b6f-c383-453d-bd35-e0613c7274ac",
   "metadata": {},
   "outputs": [
    {
     "name": "stdout",
     "output_type": "stream",
     "text": [
      "CPU times: user 3min 8s, sys: 0 ns, total: 3min 8s\n",
      "Wall time: 40.1 s\n"
     ]
    }
   ],
   "source": [
    "%%time\n",
    "\n",
    "item_keywords =  [product_metadata[i]['item_keywords']  for i in product_metadata.keys()]\n",
    "item_keywords_vectors = [ model.encode(sentence) for sentence in item_keywords]\n"
   ]
  },
  {
   "cell_type": "markdown",
   "id": "39427b16-dc63-45f9-8a2f-e032d8cb010f",
   "metadata": {
    "tags": []
   },
   "source": [
    "### 检查生成向量的维度"
   ]
  },
  {
   "cell_type": "code",
   "execution_count": 12,
   "id": "6593534b-9a81-4da3-ae71-7492ef343789",
   "metadata": {},
   "outputs": [
    {
     "data": {
      "text/plain": [
       "1000"
      ]
     },
     "execution_count": 12,
     "metadata": {},
     "output_type": "execute_result"
    }
   ],
   "source": [
    "len(item_keywords_vectors)"
   ]
  },
  {
   "cell_type": "code",
   "execution_count": 13,
   "id": "a408f6da-1202-4f23-95b7-a775f7f8f562",
   "metadata": {},
   "outputs": [
    {
     "data": {
      "text/plain": [
       "1000"
      ]
     },
     "execution_count": 13,
     "metadata": {},
     "output_type": "execute_result"
    }
   ],
   "source": [
    "len(product_metadata)"
   ]
  },
  {
   "cell_type": "code",
   "execution_count": 14,
   "id": "70259445-b83d-4e93-8afd-2443dc15a1c3",
   "metadata": {},
   "outputs": [
    {
     "data": {
      "text/plain": [
       "{'item_id': 'B07T6RZ2CM',\n",
       " 'marketplace': 'Amazon',\n",
       " 'country': 'IN',\n",
       " 'main_image_id': '71dZhpsferL',\n",
       " 'domain_name': 'amazon.in',\n",
       " 'bullet_point': '3D Printed Hard Back Case Mobile Cover for Lenovo K4 Note Easy to put & take off with perfect cutouts for volume buttons, audio & charging ports. Stylish design and appearance, express your unique personality. Extreme precision design allows easy access to all buttons and ports while featuring raised bezel to life screen and camera off flat surface. Slim Hard Back Cover No Warranty None',\n",
       " 'item_keywords': 'mobile cover back cover mobile case phone case mobile panel phone panel Lenovo mobile case Lenovo phone cover Lenovo back case hard case 3D printed mobile cover mobile cover back cover mobile case phone case mobile panel phone panel Lenovo mobile case Lenovo phone cover Lenovo back case hard case 3D printed mobile cover mobile cover back cover mobile case phone case mobile panel phone panel Lenovo mobile case Lenovo phone cover Lenovo back case hard case 3D printed mobile cover mobile cover back cover mobil',\n",
       " 'material': nan,\n",
       " 'brand': 'Amazon Brand - Solimo',\n",
       " 'color': 'Others',\n",
       " 'item_name': 'Amazon Brand - Solimo Designer Couples Sitting at Dark 3D Printed Hard Back Case Mobile Cover for Lenovo K4 Note',\n",
       " 'model_name': 'Lenovo K4 Note',\n",
       " 'model_number': 'gz8115-SL40423',\n",
       " 'product_type': 'CELLULAR_PHONE_CASE',\n",
       " 'primary_key': 'B07T6RZ2CM-amazon.in'}"
      ]
     },
     "execution_count": 14,
     "metadata": {},
     "output_type": "execute_result"
    }
   ],
   "source": [
    "# Check one of the products\n",
    "product_metadata[0]"
   ]
  },
  {
   "cell_type": "code",
   "execution_count": 15,
   "id": "462c32b3-1ed1-470c-b25a-3e5d211bbd55",
   "metadata": {},
   "outputs": [
    {
     "data": {
      "text/plain": [
       "array([ 1.63512714e-02,  5.15371673e-02,  2.05468750e-05, -3.01682167e-02,\n",
       "       -5.74108101e-02,  2.66802944e-02, -3.55679612e-03,  3.73508334e-02,\n",
       "        4.68826927e-02, -1.97955035e-02, -4.86263558e-02, -2.56960150e-02,\n",
       "        3.70321795e-03,  7.14352448e-03, -2.64414772e-03,  1.59897190e-02,\n",
       "        1.78457499e-02,  6.22210093e-02, -4.18959372e-02, -3.56804356e-02,\n",
       "        1.47165852e-02, -3.82758528e-02,  2.37587094e-02, -1.40176909e-02,\n",
       "       -6.99739233e-02, -5.59106618e-02, -1.23031344e-02, -3.78090814e-02,\n",
       "       -6.60971599e-03, -3.96509096e-02, -8.95805284e-03, -3.27235758e-02,\n",
       "        1.08916201e-02, -1.56319793e-02,  7.95790702e-02,  4.41595465e-02,\n",
       "       -1.08439215e-02,  6.86705112e-02, -2.29273178e-02, -3.44910249e-02,\n",
       "        5.20440377e-02, -1.25887962e-02,  4.94504049e-02,  2.91608099e-04,\n",
       "        2.40929276e-02,  3.91421579e-02, -1.96286067e-02, -2.90713105e-02,\n",
       "       -1.06236478e-02, -2.32878663e-02, -1.66118629e-02, -4.22629416e-02,\n",
       "       -7.55494228e-03,  2.95650889e-03, -3.34275514e-02,  2.52834093e-02,\n",
       "       -3.17362286e-02, -2.57184450e-02, -2.40247119e-02,  6.91670924e-02,\n",
       "        1.08714937e-03,  3.40058021e-02, -2.95007089e-03,  4.76461127e-02,\n",
       "        8.60057250e-02,  3.30418982e-02, -4.76090200e-02,  4.54259142e-02,\n",
       "       -2.61315480e-02, -1.42914178e-02, -7.02867564e-03, -3.16864587e-02,\n",
       "       -1.76500657e-03, -6.60431758e-02, -5.17170765e-02,  1.66295711e-02,\n",
       "       -3.99472937e-03, -2.25559324e-02, -8.22868547e-04,  2.72679552e-02,\n",
       "        2.00370457e-02, -6.88559888e-03,  7.89497644e-02, -5.62545210e-02,\n",
       "        1.51559158e-04, -5.03818356e-02,  1.32452948e-02,  9.56747029e-03,\n",
       "       -1.15245217e-02, -9.99909267e-03,  4.69034426e-02, -7.45644644e-02,\n",
       "       -8.05442687e-03, -9.50736087e-03,  3.73460203e-02, -5.13043301e-03,\n",
       "       -4.35801372e-02, -2.61283554e-02,  5.15251281e-03, -4.81408872e-02,\n",
       "       -3.21968682e-02,  5.05818203e-02, -8.01428184e-02,  8.75822094e-04,\n",
       "        3.13584693e-02,  1.99496355e-02, -8.14560428e-02, -4.17752415e-02,\n",
       "       -3.87155190e-02,  9.43126250e-03,  4.98232581e-02, -2.31410377e-02,\n",
       "       -1.12940008e-02,  2.89743766e-02,  1.40147833e-02, -5.96001968e-02,\n",
       "        3.56812775e-02, -1.07917413e-02,  9.52005677e-04, -3.18054412e-03,\n",
       "        1.70728881e-02,  3.64945568e-02, -6.92063123e-02, -4.55497243e-02,\n",
       "        5.74310031e-03, -2.72987708e-02, -1.61693525e-02,  1.09425718e-02,\n",
       "       -6.00025691e-02,  1.98663790e-02,  1.27944909e-02, -3.39169912e-02,\n",
       "        4.78564017e-03,  5.42684831e-02,  3.14432755e-02,  8.75919499e-03,\n",
       "        3.30064930e-02, -9.39416699e-03,  5.29810302e-02,  1.53077929e-03,\n",
       "       -5.55392494e-03, -8.73590913e-03,  3.01494775e-03, -9.63621028e-03,\n",
       "       -6.01150393e-02,  5.60444891e-02,  2.05589905e-02, -3.51300687e-02,\n",
       "        6.28635585e-02, -9.06025432e-03,  3.80254127e-02,  1.82306431e-02,\n",
       "        2.11865231e-02,  9.35837179e-02, -5.36372289e-02, -3.04637402e-02,\n",
       "       -1.29700191e-02,  1.46291433e-02, -1.07497759e-02,  2.05446854e-02,\n",
       "       -2.16960423e-02, -5.64437360e-02,  7.47627392e-03, -1.18449628e-02,\n",
       "       -7.94947241e-03, -2.88943332e-02, -2.83956546e-02, -1.15366476e-02,\n",
       "       -8.85440409e-03,  2.01970246e-03,  7.04575926e-02,  4.25940044e-02,\n",
       "       -2.25505885e-02, -2.48173927e-03,  6.36889488e-02,  5.67069335e-04,\n",
       "       -3.49053517e-02, -1.30330119e-02, -6.63707405e-03,  1.28399394e-03,\n",
       "       -2.55200546e-02,  1.23192770e-02, -5.78099526e-02, -1.78006254e-02,\n",
       "        9.98280477e-03, -8.89547262e-03, -3.06935962e-02,  3.91154476e-02,\n",
       "        3.97668071e-02, -2.89999470e-02,  1.44064007e-02,  2.02315282e-02,\n",
       "       -4.90377545e-02, -8.51292722e-03, -9.12390202e-02, -3.81913595e-02,\n",
       "       -7.09499866e-02, -1.72305759e-02,  1.83528252e-02, -9.12133697e-03,\n",
       "       -2.39654258e-02, -9.21466667e-03, -6.29593655e-02, -1.07763230e-03,\n",
       "        5.88413328e-02,  5.39670810e-02, -7.46904239e-02, -5.67518622e-02,\n",
       "        3.72859202e-02, -1.48485377e-02,  2.47358270e-02, -9.32746828e-02,\n",
       "        1.18813831e-02, -9.18166414e-02, -7.20885694e-02,  4.54057902e-02,\n",
       "       -8.89064819e-02, -2.35447334e-03, -3.93483192e-02, -2.88678445e-02,\n",
       "        3.90400924e-03, -2.34472603e-02, -3.01507842e-02, -5.17619103e-02,\n",
       "        1.15899341e-02, -7.94237182e-02,  8.40043183e-03,  7.32251303e-03,\n",
       "       -5.39470762e-02, -2.26218682e-02, -4.45756018e-02,  6.43122494e-02,\n",
       "       -1.05763944e-02,  3.08629703e-02, -6.82886923e-03,  1.85085423e-02,\n",
       "       -5.05517190e-03, -6.16894662e-02, -6.23400509e-02,  6.15115389e-02,\n",
       "        5.97946011e-02, -4.63584438e-02, -7.48763233e-03, -5.67249097e-02,\n",
       "       -2.62535904e-02,  4.12580855e-02,  1.23290829e-02, -1.06585370e-02,\n",
       "       -4.01859405e-03, -1.76252276e-02,  6.27348125e-02,  2.11152975e-02,\n",
       "       -8.81062169e-03,  1.69658456e-02, -1.44685861e-02,  9.19251665e-02,\n",
       "       -1.34059954e-02,  5.91739975e-02,  4.04113904e-02,  1.50896385e-02,\n",
       "       -3.90898585e-02, -4.27050404e-02, -5.49441576e-02, -9.32971947e-03,\n",
       "        5.85945044e-03,  3.87742892e-02,  8.89881514e-03,  7.59577081e-02,\n",
       "       -9.58630443e-03, -7.32477289e-03,  3.15302089e-02,  1.68196857e-02,\n",
       "       -3.55661311e-03, -8.46504979e-03,  3.55697908e-02, -2.64305808e-02,\n",
       "        7.78729022e-02,  3.56250964e-02,  5.57850525e-02,  1.98019408e-02,\n",
       "       -3.99193261e-03, -2.34647412e-02,  2.77645327e-02, -2.98755672e-02,\n",
       "       -8.72995064e-04,  2.10343674e-02, -6.14167824e-02,  7.14441314e-02,\n",
       "        3.79395089e-03, -1.44244526e-02,  2.23540096e-03, -1.79176349e-02,\n",
       "        1.91402622e-02,  1.06341345e-02,  1.10796858e-02,  2.56367354e-03,\n",
       "       -1.20736763e-03,  2.36400981e-02,  1.59450620e-02, -2.50433758e-02,\n",
       "        2.44357176e-02, -3.97085212e-02,  6.70040473e-02,  1.42509991e-03,\n",
       "       -6.77596405e-02, -3.16602997e-02, -1.24859624e-02, -1.37857543e-02,\n",
       "       -7.57836550e-03,  4.08706069e-02, -1.95699111e-02,  4.21368480e-02,\n",
       "       -4.82969992e-02, -4.54085767e-02, -3.64459120e-02,  3.16025689e-02,\n",
       "        2.83349250e-02,  4.36689816e-02,  3.10007986e-02, -1.04304934e-02,\n",
       "        3.79702188e-02, -4.96816374e-02, -7.18844170e-03,  2.06607338e-02,\n",
       "       -6.63300278e-04, -8.41673538e-02,  8.59324709e-02, -2.94618774e-03,\n",
       "       -3.96438949e-02, -2.68447958e-03,  4.30814214e-02, -6.22852379e-03,\n",
       "       -1.98049322e-02, -1.97623391e-02, -5.53565361e-02, -5.93097173e-02,\n",
       "       -1.27253076e-02, -2.31698118e-02, -2.47328803e-02,  4.11826596e-02,\n",
       "        1.11291406e-03, -8.62878468e-03, -3.78121734e-02, -1.72416791e-02,\n",
       "       -1.04507096e-02,  4.77303453e-02, -1.27225230e-02,  9.55841225e-03,\n",
       "        1.12137217e-02, -1.97890727e-03,  5.74617349e-02,  2.18360908e-02,\n",
       "       -2.57524606e-02,  5.60998321e-02,  2.44061854e-02, -3.84903960e-02,\n",
       "       -6.43381756e-03, -7.84101188e-02, -6.38973862e-02, -5.03727756e-02,\n",
       "        6.76755793e-04, -7.59523660e-02,  1.59617607e-02,  1.36653092e-02,\n",
       "       -1.24418419e-02, -1.48516623e-02, -7.47653469e-02, -4.04286943e-02,\n",
       "        3.39452811e-02,  1.72035079e-02, -2.62789950e-02, -7.18848035e-02,\n",
       "        1.13186194e-02, -3.15014343e-03, -6.02819286e-02,  3.00747231e-02,\n",
       "        3.60954925e-02,  1.19161624e-02,  2.53048185e-02,  9.43129733e-02,\n",
       "       -3.16157565e-02,  2.12608781e-02,  6.93986565e-03, -1.84823908e-02,\n",
       "       -3.98205742e-02,  2.49210857e-02,  9.08521842e-03,  2.08166931e-02,\n",
       "       -2.36155447e-02,  9.76699870e-03, -4.06531952e-02,  1.79289561e-02,\n",
       "        6.30762652e-02, -1.45972762e-02, -2.95038968e-02, -2.10818369e-02,\n",
       "       -3.16685322e-03, -6.06504939e-02, -1.86997280e-02, -4.93616331e-03,\n",
       "        2.99015883e-02, -3.53952721e-02,  2.73289774e-02,  5.79110272e-02,\n",
       "        1.08462451e-02, -1.89256370e-02, -6.50728866e-02, -2.69351099e-02,\n",
       "        1.98812857e-02, -4.92773242e-02, -4.39125020e-03, -4.05489933e-03,\n",
       "       -1.60204321e-02, -1.75342988e-02, -2.71463711e-02,  1.75984390e-02,\n",
       "       -3.77366878e-02,  2.92765349e-02, -3.59774977e-02, -1.47556262e-02,\n",
       "        4.04814705e-02, -2.34865351e-03,  8.17106850e-03,  5.48541807e-02,\n",
       "        6.68258741e-02, -2.85339523e-02,  3.89673226e-02,  4.06897962e-02,\n",
       "       -1.20172100e-02,  3.35736200e-02,  1.18566835e-02, -4.01024288e-03,\n",
       "        4.41744514e-02,  5.94692826e-02,  2.82681249e-02,  1.46905035e-02,\n",
       "       -1.52563425e-02, -2.21971292e-02, -3.55051048e-02, -1.32824210e-02,\n",
       "        2.70877350e-02, -1.19276633e-02, -4.09772284e-02, -1.58147477e-02,\n",
       "        1.62638780e-02, -2.93824654e-02,  2.55334899e-02,  1.60278734e-02,\n",
       "        5.33821527e-03, -1.71649898e-03,  3.30969952e-02, -6.30952939e-02,\n",
       "        2.80865747e-02, -2.76642479e-02,  6.87125847e-02,  1.23173725e-02,\n",
       "       -2.50380579e-02, -5.15950806e-02,  2.07482390e-02,  2.79913004e-02,\n",
       "       -2.84128636e-02, -2.83772661e-03, -2.34601460e-02, -1.94552820e-02,\n",
       "       -2.79631093e-02, -9.46702342e-03, -1.01257404e-02, -1.10496813e-02,\n",
       "        1.46689080e-03,  1.68964248e-02,  1.72093380e-02, -2.21795887e-02,\n",
       "       -7.16775830e-04, -6.81205392e-02, -1.24540776e-02, -2.06225999e-02,\n",
       "        9.71175637e-03,  2.16762628e-02,  4.91011776e-02, -1.66438762e-02,\n",
       "       -1.53370164e-02,  8.65865126e-02, -4.89044413e-02,  6.10462669e-03,\n",
       "        3.57691534e-02, -9.42567270e-03,  1.66334063e-02,  3.37956436e-02,\n",
       "       -1.42838256e-02,  7.84510002e-03, -5.72747067e-02, -1.54216297e-03,\n",
       "        2.43184548e-02,  6.33373037e-02,  4.17373265e-33,  2.68670004e-02,\n",
       "       -5.20535782e-02, -3.12273148e-02, -2.87070237e-02, -2.80263368e-04,\n",
       "        3.98093611e-02, -2.17543989e-02, -2.52680071e-02,  1.76348202e-02,\n",
       "       -5.21275997e-02,  5.78061864e-02, -2.30462905e-02,  1.31045450e-02,\n",
       "       -6.24501205e-04,  5.28082997e-02, -3.22356410e-02,  3.60790528e-02,\n",
       "       -3.59490290e-02, -2.25476287e-02, -1.24002518e-02, -4.74027433e-02,\n",
       "       -1.29689556e-02,  2.64492109e-02, -6.03454895e-02,  4.79863100e-02,\n",
       "        4.10353877e-02,  3.68387774e-02,  1.71063691e-02,  3.10212374e-02,\n",
       "        2.36593019e-02, -2.14530360e-02, -5.89396339e-04, -4.48217876e-02,\n",
       "        3.83758848e-03,  5.18779829e-02, -3.24596949e-02,  3.28783598e-03,\n",
       "       -2.18670443e-02, -4.47926298e-02,  1.03872418e-02, -4.77899052e-02,\n",
       "        3.09262052e-02,  1.44833047e-02,  8.49974751e-02, -1.45907588e-02,\n",
       "        1.91434175e-02,  8.13071802e-02, -5.79477707e-03, -4.36384268e-02,\n",
       "        3.88170071e-02,  3.77159379e-02, -1.70982163e-02, -4.15426977e-02,\n",
       "        4.04919051e-02, -3.69775034e-02,  8.02136213e-03,  6.55372292e-02,\n",
       "        2.23431177e-02,  4.93676960e-02, -1.50273181e-02,  3.95362899e-02,\n",
       "        3.83559219e-03, -1.01102209e-02,  3.53571661e-02, -1.90742146e-02,\n",
       "       -8.09614807e-02, -2.29947772e-02, -1.15917819e-02, -3.83302122e-02,\n",
       "       -3.54479700e-02, -2.98876297e-02,  1.41813755e-02, -5.22260135e-03,\n",
       "        7.92039931e-02, -3.06515079e-02,  3.00014392e-02,  3.58774955e-03,\n",
       "        4.98480648e-02,  7.55331246e-03,  9.36466530e-02, -8.39088112e-02,\n",
       "       -2.27949191e-02,  6.58926144e-02, -6.64225314e-03, -4.75644208e-02,\n",
       "       -5.49542494e-02,  3.34365629e-02,  3.24696861e-02, -2.29884684e-02,\n",
       "        3.50627452e-02, -1.66467242e-02,  1.17833000e-02, -9.85025894e-03,\n",
       "        4.18654876e-03,  1.28556062e-02, -2.06973683e-02,  3.83374817e-03,\n",
       "        2.15928406e-02,  1.09988358e-02, -1.42949084e-02,  4.05487120e-02,\n",
       "       -5.70094734e-02,  5.66209890e-02,  8.59726034e-03,  8.82440154e-03,\n",
       "       -3.20226103e-02, -1.59570612e-02, -5.50778443e-03,  2.46345308e-02,\n",
       "        7.29221925e-02,  1.59239992e-02, -1.05313743e-02, -5.55729568e-02,\n",
       "       -1.40657434e-02,  3.76541391e-02,  4.10323823e-03,  1.61364544e-02,\n",
       "        6.19410016e-02, -4.64585423e-02, -3.39585952e-02, -5.56078739e-03,\n",
       "       -8.47524870e-03,  7.49379722e-03,  5.99454269e-02,  4.43901382e-02,\n",
       "       -3.52555960e-02, -3.99450287e-02, -2.41355691e-02,  2.95454729e-02,\n",
       "       -2.04680655e-02,  1.02953557e-02, -4.71179262e-02, -2.92969239e-03,\n",
       "        1.06666259e-01, -9.57168080e-03, -4.82086428e-02,  7.13006128e-03,\n",
       "       -3.63432728e-02, -1.39789120e-03,  1.15291737e-02, -1.62814930e-02,\n",
       "        5.09708226e-02,  2.40270924e-02,  1.74739817e-03,  2.97265891e-02,\n",
       "       -6.42035007e-02, -5.75935245e-02, -2.64451969e-02, -7.40759028e-03,\n",
       "       -1.77947953e-02, -2.09636777e-03, -2.79767700e-02,  2.24698372e-02,\n",
       "       -1.21885510e-02,  2.49800296e-03,  1.89318638e-02,  6.59557953e-02,\n",
       "       -5.03753982e-02, -1.54463686e-02, -1.06656048e-02,  7.98928663e-02,\n",
       "       -3.66640240e-02, -9.04899091e-02,  1.59099177e-02,  2.25974265e-02,\n",
       "        1.89338382e-02,  3.98325827e-03, -1.09807281e-02,  2.94053983e-02,\n",
       "       -9.75132175e-03, -2.23410241e-02,  3.60674374e-02, -2.64728479e-02,\n",
       "       -1.74649488e-02, -5.23145404e-03, -1.63313895e-02,  6.63578603e-03,\n",
       "       -5.85478842e-02,  1.48625653e-02, -2.07429193e-02, -2.83544231e-02,\n",
       "       -4.62458394e-02, -3.70842516e-02,  1.56163296e-03,  1.68476906e-02,\n",
       "       -6.48625866e-02, -7.63190389e-02,  2.85582617e-02,  1.90050248e-02,\n",
       "       -2.84639969e-02,  4.02565561e-02, -2.14396007e-02,  7.77275786e-02,\n",
       "        3.90550084e-02, -1.36072338e-02, -1.86451967e-03,  1.28567107e-02,\n",
       "       -4.77571264e-02,  3.54503654e-02,  5.37436863e-04,  2.07415596e-02,\n",
       "       -2.27350593e-02,  9.06562805e-03,  2.99261101e-02, -4.70473915e-02,\n",
       "        3.55870835e-02,  1.95442662e-02,  2.58468576e-02, -2.42116898e-02,\n",
       "        1.67745240e-02, -1.45221623e-02,  1.16918478e-02,  1.13917012e-02,\n",
       "       -5.65331802e-02,  1.12252776e-02,  2.07311306e-02,  3.77264656e-02,\n",
       "       -1.75132323e-02, -1.79568511e-02, -2.67221183e-02, -3.75707112e-02,\n",
       "       -5.07415682e-02, -6.16761204e-03, -2.25770543e-03,  1.16868280e-02,\n",
       "        9.51723941e-03, -3.70655283e-02, -2.06917804e-03,  2.13171192e-03,\n",
       "        4.77249771e-02, -2.87630707e-02, -4.54260735e-03,  3.89869660e-02,\n",
       "       -7.85062183e-03,  9.91941430e-03,  4.57819663e-02, -1.77875794e-02,\n",
       "        2.59833615e-02,  4.64944430e-02,  6.38345182e-02,  7.77147710e-04,\n",
       "       -2.50371974e-02,  3.65301855e-02, -4.99121752e-03,  2.19628271e-02,\n",
       "        1.55981909e-02,  1.53792491e-02,  4.75068949e-02, -1.81656815e-02,\n",
       "       -4.29924801e-02, -6.96869567e-02, -2.61203498e-02,  1.75505150e-02,\n",
       "       -7.66721815e-02, -1.72149558e-02,  1.61803961e-02, -3.73015739e-02,\n",
       "       -4.35142368e-02,  6.07589893e-02, -2.31307149e-02,  8.01227242e-03,\n",
       "       -4.03037667e-03,  1.02315880e-02,  4.70170490e-02,  5.23073636e-02,\n",
       "        4.81930487e-02,  4.21439484e-02,  4.90585119e-02, -1.25633162e-02,\n",
       "        5.95060410e-03,  3.15074879e-03,  2.35990901e-03,  1.19382003e-02],\n",
       "      dtype=float32)"
      ]
     },
     "execution_count": 15,
     "metadata": {},
     "output_type": "execute_result"
    }
   ],
   "source": [
    "item_keywords_vectors[0]"
   ]
  },
  {
   "cell_type": "markdown",
   "id": "dbc7f4d2-1c1a-4847-bf6d-b08610b30c01",
   "metadata": {
    "tags": []
   },
   "source": [
    "# 加载产品数据的使用函数\n",
    "\n",
    "每个产品都会存储在一个redis hash中\n",
    "* **Hash Key** = **key='product:index+:primary_key'**\n",
    "\n",
    " "
   ]
  },
  {
   "cell_type": "code",
   "execution_count": 17,
   "id": "e86b393b-2273-4f26-8779-73896b43c1f9",
   "metadata": {},
   "outputs": [],
   "source": [
    "def load_vectors(client:Redis, product_metadata, vector_dict, vector_field_name):\n",
    "    p = client.pipeline(transaction=False)\n",
    "    for index in product_metadata.keys():    \n",
    "        # hash key\n",
    "        key='product:'+ str(index)+ ':' + product_metadata[index]['primary_key']\n",
    "        \n",
    "        # hash values\n",
    "        item_metadata = product_metadata[index]\n",
    "        item_keywords_vector = vector_dict[index].astype(np.float32).tobytes()\n",
    "        item_metadata[vector_field_name]=item_keywords_vector\n",
    "        \n",
    "        # HSET\n",
    "        p.hset(key,mapping=item_metadata)\n",
    "            \n",
    "    p.execute()"
   ]
  },
  {
   "cell_type": "markdown",
   "id": "5607848c-ce11-44d2-892f-1ffb4778f405",
   "metadata": {},
   "source": [
    "# 在向量字段上创建索引的实用函数"
   ]
  },
  {
   "cell_type": "code",
   "execution_count": 19,
   "id": "54a6d4e3-b15d-499e-864d-c420fe140810",
   "metadata": {},
   "outputs": [],
   "source": [
    "def create_flat_index (redis_conn,vector_field_name,number_of_vectors, vector_dimensions=512, distance_metric='L2'):\n",
    "    redis_conn.ft().create_index([\n",
    "        VectorField(vector_field_name, \"FLAT\", \n",
    "                    {\"TYPE\": \"FLOAT32\", \n",
    "                     \"DIM\": vector_dimensions, \n",
    "                     \"DISTANCE_METRIC\": distance_metric, \n",
    "                     \"INITIAL_CAP\": number_of_vectors, \n",
    "                     \"BLOCK_SIZE\":number_of_vectors }),\n",
    "        TagField(\"product_type\"),\n",
    "        TextField(\"item_name\"),\n",
    "        TextField(\"item_keywords\"),\n",
    "        TagField(\"country\")        \n",
    "    ])\n",
    "\n",
    "def create_hnsw_index (redis_conn,vector_field_name,number_of_vectors, vector_dimensions=512, distance_metric='L2',M=40,EF=200):\n",
    "    redis_conn.ft().create_index([\n",
    "        VectorField(vector_field_name, \"HNSW\", \n",
    "                    {\"TYPE\": \"FLOAT32\", \n",
    "                     \"DIM\": vector_dimensions, \n",
    "                     \"DISTANCE_METRIC\": distance_metric, \n",
    "                     \"INITIAL_CAP\": number_of_vectors, \n",
    "                     \"M\": M, \n",
    "                     \"EF_CONSTRUCTION\": EF}),\n",
    "        TagField(\"product_type\"),\n",
    "        TextField(\"item_keywords\"),        \n",
    "        TextField(\"item_name\"),\n",
    "        TagField(\"country\")     \n",
    "    ])    \n"
   ]
  },
  {
   "cell_type": "markdown",
   "id": "7ab8085f-b70b-4e8f-831a-21a78d7273a1",
   "metadata": {
    "tags": []
   },
   "source": [
    "# FLAT - 加载和索引产品数据\n",
    "\n",
    "让我们为 1000 个产品的图像向量和加载信息创建一个索引\n",
    "\n",
    "**这可能需要 1-2 分钟**\n",
    "\n",
    "FLAT 索引用于执行精确最近邻搜索。\n",
    "\n",
    "查询向量将与数据库中的所有其他图像向量进行比较"
   ]
  },
  {
   "cell_type": "code",
   "execution_count": 20,
   "id": "71a27ca3-5ce0-4174-aac1-86ffa6224070",
   "metadata": {},
   "outputs": [
    {
     "name": "stdout",
     "output_type": "stream",
     "text": [
      "Loading and Indexing + 1000 products\n",
      "CPU times: user 152 ms, sys: 0 ns, total: 152 ms\n",
      "Wall time: 730 ms\n"
     ]
    }
   ],
   "source": [
    "%%time\n",
    "\n",
    "ITEM_KEYWORD_EMBEDDING_FIELD='item_keyword_vector'\n",
    "TEXT_EMBEDDING_DIMENSION=768\n",
    "NUMBER_PRODUCTS=1000\n",
    "\n",
    "print ('Loading and Indexing + ' +  str(NUMBER_PRODUCTS) + ' products')\n",
    "\n",
    "#flush all data\n",
    "redis_conn.flushall()\n",
    "\n",
    "#create flat index & load vectors\n",
    "create_flat_index(redis_conn, ITEM_KEYWORD_EMBEDDING_FIELD,NUMBER_PRODUCTS,TEXT_EMBEDDING_DIMENSION,'COSINE')\n",
    "load_vectors(redis_conn,product_metadata,item_keywords_vectors,ITEM_KEYWORD_EMBEDDING_FIELD)"
   ]
  },
  {
   "cell_type": "markdown",
   "id": "bcdd5a01-5736-4081-b3e4-1551bbb9bd0f",
   "metadata": {},
   "source": [
    "# FLAT index - FIND The Top K MOST SEMANTICALLY Similar Products\n",
    "Let's use the brute-force index to find the exact top k nearest neighbors of a given text query\n",
    "\n",
    "Check the output for 2 very different queries:\n",
    "* Query 1 = 'beautifully crafted present for her. a special occasion'\n",
    "* Query 2 = 'Ultra modern cool way to pimp up my phone'\n",
    "\n",
    "Feel free to experiment with other text queries to match against the item keyword data.\n",
    "\n",
    "\n",
    "# FLAT 索引 - 找到前 K 个最相似的产品\n",
    "让我们使用强力索引来找到给定文本查询的前 k 个最近邻居\n",
    "\n",
    "检查 2 个非常不同的查询的输出：\n",
    "* 查询 1 = '为她精心制作的礼物。 一个特殊的场合'\n",
    "* 查询 2 = '超现代酷炫的方式来装扮我的手机'\n",
    "\n",
    "随意尝试其他文本查询以匹配项目关键字数据。\n",
    "\n",
    "\n",
    "\n",
    "\n"
   ]
  },
  {
   "cell_type": "code",
   "execution_count": 21,
   "id": "315e6873-5e0f-4924-a64d-8df14f00cdc9",
   "metadata": {},
   "outputs": [
    {
     "name": "stdout",
     "output_type": "stream",
     "text": [
      "***************Product  found ************\n",
      "\u001b[1mhash key = \u001b[0mproduct:0:B07T6RZ2CM-amazon.in\n",
      "\u001b[93mItem Name = \u001b[0mAmazon Brand - Solimo Designer Couples Sitting at Dark 3D Printed Hard Back Case Mobile Cover for Lenovo K4 Note\n",
      "\u001b[93mItem Id = \u001b[0mB07T6RZ2CM\n",
      "\u001b[93mItem keywords = \u001b[0mmobile cover back cover mobile case phone case mobile panel phone panel Lenovo mobile case Lenovo phone cover Lenovo back case hard case 3D printed mobile cover mobile cover back cover mobile case phone case mobile panel phone panel Lenovo mobile case Lenovo phone cover Lenovo back case hard case 3D printed mobile cover mobile cover back cover mobile case phone case mobile panel phone panel Lenovo mobile case Lenovo phone cover Lenovo back case hard case 3D printed mobile cover mobile cover back cover mobil\n",
      "\u001b[93mScore = \u001b[0m0\n",
      "***************Product  found ************\n",
      "\u001b[1mhash key = \u001b[0mproduct:1:B07T2JY31Y-amazon.in\n",
      "\u001b[93mItem Name = \u001b[0mAmazon Brand - Solimo Designer Leaf on Wood 3D Printed Hard Back Case Mobile Cover for Sony Xperia Z1 L39H\n",
      "\u001b[93mItem Id = \u001b[0mB07T2JY31Y\n",
      "\u001b[93mItem keywords = \u001b[0mmobile cover back cover mobile case phone case mobile panel phone panel LG mobile case LG phone cover LG back case hard case 3D printed mobile cover mobile cover back cover mobile case phone case mobile panel phone panel Sony Xperia mobile case Sony Xperia phone cover Sony Xperia back case hard case 3D printed mobile cover mobile cover back cover mobile case phone case mobile panel phone panel Sony Xperia mobile case Sony Xperia phone cover Sony Xperia back case hard case 3D printed mobile cover mobile cove\n",
      "\u001b[93mScore = \u001b[0m0\n",
      "***************Product  found ************\n",
      "\u001b[1mhash key = \u001b[0mproduct:2:B0849YGSCZ-amazon.ae\n",
      "\u001b[93mItem Name = \u001b[0mStone & Beam Contemporary Doily Wool Farmhouse Rug\n",
      "\u001b[93mItem Id = \u001b[0mB0849YGSCZ\n",
      "\u001b[93mItem keywords = \u001b[0msmall de fur rooms navidad woven girls shag pastel white furniture blush plaid runner pale sheepskin safavieh 10 area large dorm nuloom 4 muddle pink 8x10 yellow for trellis ft colors fauxfur decor and ivory indoors clearance rugs colored 9x12 kitchen floor furry fuzzy mat teen 2x3 room round\n",
      "\u001b[93mScore = \u001b[0m0\n",
      "***************Product  found ************\n",
      "\u001b[1mhash key = \u001b[0mproduct:3:B081K6TCML-amazon.in\n",
      "\u001b[93mItem Name = \u001b[0mAmazon Brand - Solimo Plastic Multipurpose Modular Drawer, 3 Racks, Multicolor\n",
      "\u001b[93mItem Id = \u001b[0mB081K6TCML\n",
      "\u001b[93mItem keywords = \u001b[0mdrawer modular drawer 3 rack modular drawer kitchen drawer storage trolley drawers for storage plastic drawers Storage Containers Storage Drawer Units drawer organiser drawer organiser plastic storage boxes drawer modular drawer 3 rack modular drawer kitchen drawer storage trolley drawers for storage plastic drawers Storage Containers Storage Drawer Units drawer organiser drawer organiser plastic storage boxes drawer modular drawer 3 rack modular drawer kitchen drawer storage trolley drawers for storage pla\n",
      "\u001b[93mScore = \u001b[0m0\n",
      "***************Product  found ************\n",
      "\u001b[1mhash key = \u001b[0mproduct:4:B0854774X5-amazon.in\n",
      "\u001b[93mItem Name = \u001b[0mAmazon Brand - Solimo Designer Take It Easy UV Printed Soft Back Case Mobile Cover for Nokia 8.1\n",
      "\u001b[93mItem Id = \u001b[0mB0854774X5\n",
      "\u001b[93mItem keywords = \u001b[0mBack Cover Designer Case Designer Take It Easy Mobile Cover Flexible Case Nokia 8.1 Case Printed Cover Silicone Case Soft TPU cases and covers fashion case mobile Cover\n",
      "\u001b[93mScore = \u001b[0m0\n",
      "CPU times: user 1.09 s, sys: 0 ns, total: 1.09 s\n",
      "Wall time: 300 ms\n"
     ]
    }
   ],
   "source": [
    "%%time\n",
    "topK=5\n",
    "product_query='beautifully crafted present for her. a special occasion'\n",
    "#product_query='cool way to pimp up my cell'\n",
    "\n",
    "#vectorize the query\n",
    "query_vector = model.encode(product_query).astype(np.float32).tobytes()\n",
    "\n",
    "#prepare the query\n",
    "q = Query(f'*=>[KNN {topK} @{ITEM_KEYWORD_EMBEDDING_FIELD} $vec_param AS vector_score]').sort_by('vector_score').paging(0,topK).return_fields('vector_score','item_name','item_id','item_keywords').dialect(2)\n",
    "params_dict = {\"vec_param\": query_vector}\n",
    "\n",
    "\n",
    "#Execute the query\n",
    "results = redis_conn.ft().search(q, query_params = params_dict)\n",
    "\n",
    "#Print similar products found\n",
    "for product in results.docs:\n",
    "    print ('***************Product  found ************')\n",
    "    print (color.BOLD + 'hash key = ' +  color.END + product.id)\n",
    "    print (color.YELLOW + 'Item Name = ' +  color.END  + product.item_name)\n",
    "    print (color.YELLOW + 'Item Id = ' +  color.END  + product.item_id)\n",
    "    print (color.YELLOW + 'Item keywords = ' +  color.END  + product.item_keywords)\n",
    "    print (color.YELLOW + 'Score = ' +  color.END  + product.vector_score)\n"
   ]
  },
  {
   "cell_type": "markdown",
   "id": "3e748638-50be-4e4f-b953-a87b5fdea311",
   "metadata": {},
   "source": [
    "# HNSW - 加载和索引产品数据\n",
    "\n",
    "让我们尝试使用 HNSW 索引进行索引。\n",
    "该索引用于计算给定向量的前 K 个近似最近邻"
   ]
  },
  {
   "cell_type": "code",
   "execution_count": null,
   "id": "551253af-d833-44b3-97dc-4c0e8dd4ba14",
   "metadata": {},
   "outputs": [
    {
     "name": "stdout",
     "output_type": "stream",
     "text": [
      "Loading and Indexing + 1000 products\n"
     ]
    }
   ],
   "source": [
    "%%time\n",
    "print ('Loading and Indexing + ' +  str(NUMBER_PRODUCTS) + ' products')\n",
    "\n",
    "ITEM_KEYWORD_EMBEDDING_FIELD='item_keyword_vector'\n",
    "NUMBER_PRODUCTS=1000\n",
    "TEXT_EMBEDDING_DIMENSION=768\n",
    "\n",
    "\n",
    "\n",
    "#flush all data\n",
    "redis_conn.flushall()\n",
    "\n",
    "#create flat index & load vectors\n",
    "create_hnsw_index(redis_conn, ITEM_KEYWORD_EMBEDDING_FIELD,NUMBER_PRODUCTS,TEXT_EMBEDDING_DIMENSION,'COSINE',M=40,EF=200)\n",
    "load_vectors(redis_conn,product_metadata,item_keywords_vectors,ITEM_KEYWORD_EMBEDDING_FIELD)\n"
   ]
  },
  {
   "cell_type": "markdown",
   "id": "ff708fb3-2926-4201-ab18-d1a6193f569b",
   "metadata": {},
   "source": [
    "# HNSW - Query The Top 5 semantically Similar Products\n",
    "Let's repeat the similarity search but this time using the HNSW index\n",
    "\n",
    "Check the output for 2 very different queries:\n",
    "* Query 1 = 'beautifully crafted present for her. a special occasion'\n",
    "* Query 2 = 'Ultra modern cool way to pimp up my cell'\n",
    "\n",
    "# HNSW - 查询前 5 个语义相似的产品\n",
    "让我们重复相似性搜索，但这次使用 HNSW 索引\n",
    "\n",
    "检查 2 个非常不同的查询的输出：\n",
    "* 查询 1 = '为她精心制作的礼物。 一个特殊的场合'\n",
    "* 查询 2 = '超现代酷炫的方式来装扮我的手机'"
   ]
  },
  {
   "cell_type": "code",
   "execution_count": null,
   "id": "3eeb687a-2f75-458f-b75c-0a10057a163d",
   "metadata": {},
   "outputs": [],
   "source": [
    "%%time\n",
    "topK=5\n",
    "product_query='beautifully crafted present for her. a special occasion'\n",
    "#product_query='cool way to pimp up my cell'\n",
    "\n",
    "#vectorize the query\n",
    "query_vector = model.encode(product_query).astype(np.float32).tobytes()\n",
    "\n",
    "#prepare the query\n",
    "q = Query(f'*=>[KNN {topK} @{ITEM_KEYWORD_EMBEDDING_FIELD} $vec_param AS vector_score]').sort_by('vector_score').paging(0,topK).return_fields('vector_score','item_name','item_id','item_keywords','country').dialect(2)\n",
    "params_dict = {\"vec_param\": query_vector}\n",
    "\n",
    "\n",
    "#Execute the query\n",
    "results = redis_conn.ft().search(q, query_params = params_dict)\n",
    "\n",
    "#Print similar products found\n",
    "for product in results.docs:\n",
    "    print ('***************Product  found ************')\n",
    "    print (color.BOLD + 'hash key = ' +  color.END + product.id)\n",
    "    print (color.YELLOW + 'Item Name = ' +  color.END  + product.item_name)\n",
    "    print (color.YELLOW + 'Item Id = ' +  color.END  + product.item_id)\n",
    "    print (color.YELLOW + 'Item keywords = ' +  color.END  + product.item_keywords)\n",
    "    print (color.YELLOW + 'Country = ' +  color.END  + product.country)\n",
    "    print (color.YELLOW + 'Score = ' +  color.END  + product.vector_score)\n"
   ]
  },
  {
   "cell_type": "markdown",
   "id": "ca26e65b-cd0f-4fc7-bfab-099c6edfa9f4",
   "metadata": {},
   "source": [
    "# HNSW - Hybrid Query the top 5 most visually semantically products available ONLY in selected markets\n",
    "\n",
    "Let's repeat our Top 5 search but this time limit to products that meet the following criteria:\n",
    "* **Listed on** Amazon Germany (DE), India (IN) or Italy (IT)\n",
    "\n",
    "\n",
    "This RediSearch query has this form:\n",
    "\n",
    "**(@country:{{DE|IN|IT}})=> [KNN 5 vector_field_name $query_vector EF_RUNTIME 10 AS vector_score])**\n",
    "\n",
    "\n",
    "# HNSW - 混合查询仅在特定市场提供的前 5 名最具视觉语义的产品\n",
    "\n",
    "让我们重复我们的前 5 名搜索，但这次限制为满足以下条件的产品：\n",
    "* **列于**亚马逊德国（DE）、印度（IN）或意大利（IT）\n",
    "\n",
    "\n",
    "此 RediSearch 查询具有以下形式：\n",
    "\n",
    "**(@country:{{DE|IN|IT}})=> [KNN 5 vector_field_name $query_vector EF_RUNTIME 10 AS vector_score])**"
   ]
  },
  {
   "cell_type": "code",
   "execution_count": null,
   "id": "c330ab4e-0d8a-4872-842d-2f0718039f83",
   "metadata": {},
   "outputs": [],
   "source": [
    "%%time\n",
    "topK=5\n",
    "product_query='beautifully crafted carpets for a special occasion'\n",
    "product_query='cool way to pimp up my cell'\n",
    "\n",
    "#vectorize the query\n",
    "query_vector = model.encode(product_query).astype(np.float32).tobytes()\n",
    "\n",
    "#prepare the query\n",
    "q = Query(f'(@country:{{DE|IN|IT}})=>[KNN {topK} @{ITEM_KEYWORD_EMBEDDING_FIELD} $vec_param AS vector_score]').sort_by('vector_score').paging(0,topK).return_fields('vector_score','item_name','item_id','item_keywords','country').dialect(2)\n",
    "params_dict = {\"vec_param\": query_vector}\n",
    "\n",
    "\n",
    "#Execute the query\n",
    "results = redis_conn.ft().search(q, query_params = params_dict)\n",
    "\n",
    "#Print similar products found\n",
    "for product in results.docs:\n",
    "    print ('***************Product  found ************')\n",
    "    print (color.BOLD + 'hash key = ' +  color.END + product.id)\n",
    "    print (color.YELLOW + 'Item Name = ' +  color.END  + product.item_name)\n",
    "    print (color.YELLOW + 'Item Id = ' +  color.END  + product.item_id)\n",
    "    print (color.YELLOW + 'Item keywords = ' +  color.END  + product.item_keywords)\n",
    "    print (color.YELLOW + 'Score = ' +  color.END  + product.vector_score)\n",
    "    print (color.YELLOW + 'Country = ' +  color.END  + product.country)\n"
   ]
  },
  {
   "cell_type": "code",
   "execution_count": null,
   "id": "306c89af-e093-4d35-888b-19ae63a058d9",
   "metadata": {},
   "outputs": [],
   "source": []
  }
 ],
 "metadata": {
  "kernelspec": {
   "display_name": "Python 3 (ipykernel)",
   "language": "python",
   "name": "python3"
  },
  "language_info": {
   "codemirror_mode": {
    "name": "ipython",
    "version": 3
   },
   "file_extension": ".py",
   "mimetype": "text/x-python",
   "name": "python",
   "nbconvert_exporter": "python",
   "pygments_lexer": "ipython3",
   "version": "3.11.3"
  }
 },
 "nbformat": 4,
 "nbformat_minor": 5
}
